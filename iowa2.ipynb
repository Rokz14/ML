{
 "cells": [
  {
   "cell_type": "code",
   "execution_count": 1,
   "id": "375e2ed3",
   "metadata": {},
   "outputs": [],
   "source": [
    "import pandas as pd\n",
    "import numpy as np\n",
    "import matplotlib.pyplot as plt\n",
    "import seaborn as sns\n",
    "from sklearn.model_selection import train_test_split, cross_val_score\n",
    "from sklearn.metrics import mean_absolute_error\n",
    "from sklearn.preprocessing import OneHotEncoder"
   ]
  },
  {
   "cell_type": "code",
   "execution_count": 2,
   "id": "61775224",
   "metadata": {},
   "outputs": [],
   "source": [
    "iowa_file_path = 'train.csv'\n",
    "home_data = pd.read_csv(iowa_file_path, index_col='Id')"
   ]
  },
  {
   "cell_type": "code",
   "execution_count": 3,
   "id": "30425817",
   "metadata": {},
   "outputs": [
    {
     "name": "stdout",
     "output_type": "stream",
     "text": [
      "LotFrontage    259\n",
      "MasVnrArea       8\n",
      "GarageYrBlt     81\n",
      "dtype: int64\n",
      "Index(['LotFrontage', 'MasVnrArea', 'GarageYrBlt'], dtype='object')\n"
     ]
    }
   ],
   "source": [
    "numeric_cols = [col for col in home_data.columns if home_data[col].dtype in ['int64', 'float64']]\n",
    "X_num = home_data[numeric_cols]\n",
    "\n",
    "data_1 = X_num.isnull().sum()\n",
    "data_1 = data_1[data_1 > 0]\n",
    "print(data_1)\n",
    "cols_1 = data_1.index\n",
    "print(cols_1)"
   ]
  },
  {
   "cell_type": "code",
   "execution_count": 4,
   "id": "402a40a5",
   "metadata": {},
   "outputs": [],
   "source": [
    "X_num = X_num.drop(cols_1, axis=1)\n",
    "X_num = X_num.drop('SalePrice', axis=1)"
   ]
  },
  {
   "cell_type": "code",
   "execution_count": 5,
   "id": "b2f2e10b",
   "metadata": {},
   "outputs": [
    {
     "name": "stdout",
     "output_type": "stream",
     "text": [
      "Alley           1369\n",
      "MasVnrType         8\n",
      "BsmtQual          37\n",
      "BsmtCond          37\n",
      "BsmtExposure      38\n",
      "BsmtFinType1      37\n",
      "BsmtFinType2      38\n",
      "Electrical         1\n",
      "FireplaceQu      690\n",
      "GarageType        81\n",
      "GarageFinish      81\n",
      "GarageQual        81\n",
      "GarageCond        81\n",
      "PoolQC          1453\n",
      "Fence           1179\n",
      "MiscFeature     1406\n",
      "dtype: int64\n"
     ]
    }
   ],
   "source": [
    "object_cols = np.array([col for col in home_data.columns if home_data[col].dtype == \"object\"])\n",
    "X_cat = home_data[object_cols]\n",
    "data_2 = X_cat.isnull().sum()\n",
    "data_2 = data_2[data_2 > 0]\n",
    "print(data_2)\n",
    "cols_2 = data_2.index"
   ]
  },
  {
   "cell_type": "code",
   "execution_count": 6,
   "id": "d2cb6536",
   "metadata": {},
   "outputs": [],
   "source": [
    "X_cat = X_cat.drop(cols_2, axis=1)"
   ]
  },
  {
   "cell_type": "code",
   "execution_count": 7,
   "id": "55a3c47f",
   "metadata": {},
   "outputs": [],
   "source": [
    "OH_encoder = OneHotEncoder(handle_unknown='ignore', sparse=False)\n",
    "OH_cols = pd.DataFrame(OH_encoder.fit_transform(X_cat))\n",
    "OH_cols.index = X_cat.index\n",
    "X = pd.concat([X_num, OH_cols], axis=1)"
   ]
  },
  {
   "cell_type": "code",
   "execution_count": 8,
   "id": "c91b66fb",
   "metadata": {},
   "outputs": [],
   "source": [
    "y = home_data.SalePrice"
   ]
  },
  {
   "cell_type": "code",
   "execution_count": 9,
   "id": "c79432d8",
   "metadata": {},
   "outputs": [],
   "source": [
    "train_X, val_X, train_y, val_y = train_test_split(X, y, random_state = 1)"
   ]
  },
  {
   "cell_type": "code",
   "execution_count": 10,
   "id": "ca66389d",
   "metadata": {},
   "outputs": [
    {
     "name": "stderr",
     "output_type": "stream",
     "text": [
      "C:\\Users\\aaaaa\\anaconda3\\envs\\tensorflow_env\\lib\\site-packages\\sklearn\\utils\\validation.py:1688: FutureWarning: Feature names only support names that are all strings. Got feature names with dtypes: ['int', 'str']. An error will be raised in 1.2.\n",
      "  warnings.warn(\n",
      "C:\\Users\\aaaaa\\anaconda3\\envs\\tensorflow_env\\lib\\site-packages\\sklearn\\utils\\validation.py:1688: FutureWarning: Feature names only support names that are all strings. Got feature names with dtypes: ['int', 'str']. An error will be raised in 1.2.\n",
      "  warnings.warn(\n"
     ]
    }
   ],
   "source": [
    "from sklearn.ensemble import RandomForestRegressor\n",
    "\n",
    "forest_model = RandomForestRegressor(random_state=1)\n",
    "forest_model.fit(train_X, train_y)\n",
    "forest_predictions = forest_model.predict(val_X)"
   ]
  },
  {
   "cell_type": "code",
   "execution_count": 11,
   "id": "2295338e",
   "metadata": {},
   "outputs": [
    {
     "name": "stdout",
     "output_type": "stream",
     "text": [
      "16473.276584474886\n"
     ]
    }
   ],
   "source": [
    "forest_mae = mean_absolute_error(val_y, forest_predictions)\n",
    "print(forest_mae)"
   ]
  },
  {
   "cell_type": "code",
   "execution_count": 12,
   "id": "6d85fd8c",
   "metadata": {},
   "outputs": [
    {
     "name": "stderr",
     "output_type": "stream",
     "text": [
      "C:\\Users\\aaaaa\\anaconda3\\envs\\tensorflow_env\\lib\\site-packages\\xgboost\\sklearn.py:793: UserWarning: `early_stopping_rounds` in `fit` method is deprecated for better compatibility with scikit-learn, use `early_stopping_rounds` in constructor or`set_params` instead.\n",
      "  warnings.warn(\n"
     ]
    }
   ],
   "source": [
    "import xgboost as xgb\n",
    "\n",
    "xgb_model = xgb.XGBRegressor()\n",
    "xgb_model.fit(train_X, train_y, \n",
    "             early_stopping_rounds=5, \n",
    "             eval_set=[(val_X, val_y)],\n",
    "             verbose=False)\n",
    "xgb_predictions = xgb_model.predict(val_X)"
   ]
  },
  {
   "cell_type": "code",
   "execution_count": 13,
   "id": "717481c3",
   "metadata": {},
   "outputs": [
    {
     "name": "stdout",
     "output_type": "stream",
     "text": [
      "16058.633690068493\n"
     ]
    }
   ],
   "source": [
    "xgb_mae = mean_absolute_error(val_y, xgb_predictions)\n",
    "print(xgb_mae)\n",
    "\n",
    "# scores = -1*cross_val_score(xgb_model, X, y, cv=5, scoring='neg_mean_absolute_error')\n",
    "# print(scores)\n",
    "# print(np.mean(scores))"
   ]
  },
  {
   "cell_type": "code",
   "execution_count": 14,
   "id": "872d5f1f",
   "metadata": {},
   "outputs": [
    {
     "name": "stderr",
     "output_type": "stream",
     "text": [
      "C:\\Users\\aaaaa\\anaconda3\\envs\\tensorflow_env\\lib\\site-packages\\sklearn\\utils\\validation.py:1688: FutureWarning: Feature names only support names that are all strings. Got feature names with dtypes: ['int', 'str']. An error will be raised in 1.2.\n",
      "  warnings.warn(\n",
      "C:\\Users\\aaaaa\\anaconda3\\envs\\tensorflow_env\\lib\\site-packages\\sklearn\\linear_model\\_coordinate_descent.py:647: ConvergenceWarning: Objective did not converge. You might want to increase the number of iterations, check the scale of the features or consider increasing regularisation. Duality gap: 2.528e+11, tolerance: 6.749e+08\n",
      "  model = cd_fast.enet_coordinate_descent(\n",
      "C:\\Users\\aaaaa\\anaconda3\\envs\\tensorflow_env\\lib\\site-packages\\sklearn\\utils\\validation.py:1688: FutureWarning: Feature names only support names that are all strings. Got feature names with dtypes: ['int', 'str']. An error will be raised in 1.2.\n",
      "  warnings.warn(\n"
     ]
    }
   ],
   "source": [
    "from sklearn.linear_model import Lasso\n",
    "\n",
    "lasso_model = Lasso(alpha=0.1)\n",
    "lasso_model.fit(train_X, train_y)\n",
    "lasso_predictions = lasso_model.predict(val_X)"
   ]
  },
  {
   "cell_type": "code",
   "execution_count": 15,
   "id": "13a175a2",
   "metadata": {},
   "outputs": [
    {
     "name": "stdout",
     "output_type": "stream",
     "text": [
      "18474.320378030996\n"
     ]
    }
   ],
   "source": [
    "lasso_mae = mean_absolute_error(val_y, lasso_predictions)\n",
    "print(lasso_mae)"
   ]
  },
  {
   "cell_type": "code",
   "execution_count": 16,
   "id": "1b37fbf8",
   "metadata": {},
   "outputs": [
    {
     "name": "stderr",
     "output_type": "stream",
     "text": [
      "C:\\Users\\aaaaa\\anaconda3\\envs\\tensorflow_env\\lib\\site-packages\\sklearn\\utils\\validation.py:1688: FutureWarning: Feature names only support names that are all strings. Got feature names with dtypes: ['int', 'str']. An error will be raised in 1.2.\n",
      "  warnings.warn(\n",
      "C:\\Users\\aaaaa\\anaconda3\\envs\\tensorflow_env\\lib\\site-packages\\sklearn\\utils\\validation.py:1688: FutureWarning: Feature names only support names that are all strings. Got feature names with dtypes: ['int', 'str']. An error will be raised in 1.2.\n",
      "  warnings.warn(\n"
     ]
    }
   ],
   "source": [
    "from sklearn.linear_model import Ridge\n",
    "\n",
    "ridge_model = Ridge(alpha=0.1)\n",
    "ridge_model.fit(train_X, train_y)\n",
    "ridge_predictions = ridge_model.predict(val_X)"
   ]
  },
  {
   "cell_type": "code",
   "execution_count": 17,
   "id": "6ca7c141",
   "metadata": {},
   "outputs": [
    {
     "name": "stdout",
     "output_type": "stream",
     "text": [
      "18684.345079638726\n"
     ]
    }
   ],
   "source": [
    "ridge_mae = mean_absolute_error(val_y, ridge_predictions)\n",
    "print(ridge_mae)"
   ]
  },
  {
   "cell_type": "code",
   "execution_count": 18,
   "id": "411b11a6",
   "metadata": {},
   "outputs": [
    {
     "name": "stderr",
     "output_type": "stream",
     "text": [
      "C:\\Users\\aaaaa\\anaconda3\\envs\\tensorflow_env\\lib\\site-packages\\sklearn\\utils\\validation.py:1688: FutureWarning: Feature names only support names that are all strings. Got feature names with dtypes: ['int', 'str']. An error will be raised in 1.2.\n",
      "  warnings.warn(\n",
      "C:\\Users\\aaaaa\\anaconda3\\envs\\tensorflow_env\\lib\\site-packages\\sklearn\\linear_model\\_coordinate_descent.py:647: ConvergenceWarning: Objective did not converge. You might want to increase the number of iterations, check the scale of the features or consider increasing regularisation. Duality gap: 5.247e+11, tolerance: 6.749e+08\n",
      "  model = cd_fast.enet_coordinate_descent(\n",
      "C:\\Users\\aaaaa\\anaconda3\\envs\\tensorflow_env\\lib\\site-packages\\sklearn\\utils\\validation.py:1688: FutureWarning: Feature names only support names that are all strings. Got feature names with dtypes: ['int', 'str']. An error will be raised in 1.2.\n",
      "  warnings.warn(\n"
     ]
    }
   ],
   "source": [
    "from sklearn.linear_model import ElasticNet\n",
    "\n",
    "elastic_model = ElasticNet(alpha=0.1)\n",
    "elastic_model.fit(train_X, train_y)\n",
    "elastic_predictions = elastic_model.predict(val_X)"
   ]
  },
  {
   "cell_type": "code",
   "execution_count": 19,
   "id": "bfe6b11d",
   "metadata": {},
   "outputs": [
    {
     "name": "stdout",
     "output_type": "stream",
     "text": [
      "18144.55231438312\n"
     ]
    }
   ],
   "source": [
    "elastic_mae = mean_absolute_error(val_y, elastic_predictions)\n",
    "print(elastic_mae)"
   ]
  },
  {
   "cell_type": "code",
   "execution_count": 20,
   "id": "4a357389",
   "metadata": {},
   "outputs": [
    {
     "name": "stderr",
     "output_type": "stream",
     "text": [
      "C:\\Users\\aaaaa\\anaconda3\\envs\\tensorflow_env\\lib\\site-packages\\sklearn\\utils\\validation.py:1688: FutureWarning: Feature names only support names that are all strings. Got feature names with dtypes: ['int', 'str']. An error will be raised in 1.2.\n",
      "  warnings.warn(\n",
      "C:\\Users\\aaaaa\\anaconda3\\envs\\tensorflow_env\\lib\\site-packages\\sklearn\\utils\\validation.py:1688: FutureWarning: Feature names only support names that are all strings. Got feature names with dtypes: ['int', 'str']. An error will be raised in 1.2.\n",
      "  warnings.warn(\n"
     ]
    }
   ],
   "source": [
    "from sklearn.tree import DecisionTreeRegressor\n",
    "from sklearn.ensemble import BaggingRegressor\n",
    "from sklearn.ensemble import RandomForestRegressor\n",
    "import xgboost as xgb\n",
    "\n",
    "bag_xgb_model = BaggingRegressor(base_estimator=xgb.XGBRegressor())\n",
    "bag_xgb_model.fit(train_X, train_y)\n",
    "bag_xgb_predictions = bag_xgb_model.predict(val_X)"
   ]
  },
  {
   "cell_type": "code",
   "execution_count": 21,
   "id": "64f624fd",
   "metadata": {},
   "outputs": [
    {
     "name": "stdout",
     "output_type": "stream",
     "text": [
      "14433.110177654109\n"
     ]
    }
   ],
   "source": [
    "bag_xgb_mae = mean_absolute_error(val_y, bag_xgb_predictions)\n",
    "print(bag_xgb_mae)"
   ]
  },
  {
   "cell_type": "code",
   "execution_count": 22,
   "id": "d0311277",
   "metadata": {},
   "outputs": [
    {
     "name": "stderr",
     "output_type": "stream",
     "text": [
      "C:\\Users\\aaaaa\\anaconda3\\envs\\tensorflow_env\\lib\\site-packages\\sklearn\\utils\\validation.py:1688: FutureWarning: Feature names only support names that are all strings. Got feature names with dtypes: ['int', 'str']. An error will be raised in 1.2.\n",
      "  warnings.warn(\n"
     ]
    },
    {
     "name": "stdout",
     "output_type": "stream",
     "text": [
      "17823.9597260274\n"
     ]
    },
    {
     "name": "stderr",
     "output_type": "stream",
     "text": [
      "C:\\Users\\aaaaa\\anaconda3\\envs\\tensorflow_env\\lib\\site-packages\\sklearn\\utils\\validation.py:1688: FutureWarning: Feature names only support names that are all strings. Got feature names with dtypes: ['int', 'str']. An error will be raised in 1.2.\n",
      "  warnings.warn(\n"
     ]
    }
   ],
   "source": [
    "bag_tree_model = BaggingRegressor(base_estimator=DecisionTreeRegressor())\n",
    "bag_tree_model.fit(train_X, train_y)\n",
    "bag_tree_predictions = bag_tree_model.predict(val_X)\n",
    "\n",
    "bag_tree_mae = mean_absolute_error(val_y, bag_tree_predictions)\n",
    "print(bag_tree_mae)"
   ]
  },
  {
   "cell_type": "code",
   "execution_count": 23,
   "id": "65de24d3",
   "metadata": {},
   "outputs": [
    {
     "name": "stderr",
     "output_type": "stream",
     "text": [
      "C:\\Users\\aaaaa\\anaconda3\\envs\\tensorflow_env\\lib\\site-packages\\sklearn\\utils\\validation.py:1688: FutureWarning: Feature names only support names that are all strings. Got feature names with dtypes: ['int', 'str']. An error will be raised in 1.2.\n",
      "  warnings.warn(\n"
     ]
    },
    {
     "name": "stdout",
     "output_type": "stream",
     "text": [
      "16925.75950471842\n"
     ]
    },
    {
     "name": "stderr",
     "output_type": "stream",
     "text": [
      "C:\\Users\\aaaaa\\anaconda3\\envs\\tensorflow_env\\lib\\site-packages\\sklearn\\utils\\validation.py:1688: FutureWarning: Feature names only support names that are all strings. Got feature names with dtypes: ['int', 'str']. An error will be raised in 1.2.\n",
      "  warnings.warn(\n"
     ]
    }
   ],
   "source": [
    "bag_forest_model = BaggingRegressor(base_estimator=RandomForestRegressor(random_state=1))\n",
    "bag_forest_model.fit(train_X, train_y)\n",
    "bag_forest_predictions = bag_forest_model.predict(val_X)\n",
    "\n",
    "bag_forest_mae = mean_absolute_error(val_y, bag_forest_predictions)\n",
    "print(bag_forest_mae)"
   ]
  },
  {
   "cell_type": "code",
   "execution_count": null,
   "id": "b9b35cf3",
   "metadata": {},
   "outputs": [],
   "source": []
  }
 ],
 "metadata": {
  "kernelspec": {
   "display_name": "Python 3 (ipykernel)",
   "language": "python",
   "name": "python3"
  },
  "language_info": {
   "codemirror_mode": {
    "name": "ipython",
    "version": 3
   },
   "file_extension": ".py",
   "mimetype": "text/x-python",
   "name": "python",
   "nbconvert_exporter": "python",
   "pygments_lexer": "ipython3",
   "version": "3.10.4"
  }
 },
 "nbformat": 4,
 "nbformat_minor": 5
}
